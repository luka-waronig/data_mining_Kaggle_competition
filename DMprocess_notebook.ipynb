{
 "cells": [
  {
   "cell_type": "markdown",
   "id": "beb602d1",
   "metadata": {},
   "source": [
    "### Data Mining Techniques Assignment 2: \n",
    "\n",
    "## Kaggle competition - Predicting hotel bookings from relevant search-returned properties"
   ]
  },
  {
   "cell_type": "markdown",
   "id": "aea48547",
   "metadata": {},
   "source": [
    "This notebook serves as the detailed process and code documentation necessary for conducting the steps outlined in our assingment's instructions.\n",
    "\n",
    "General overview:\n",
    "\n",
    "- (1) DATASET & PROBLEM\n",
    "\n",
    "- (2) BUSINESS UNDERSTANDING\n",
    "\n",
    "- (3) UNDERSTANDING DATA THROUGH EXPLORATORY DATA ANALYSIS\n",
    "\n",
    "- (4) DATA PREPARATION & FEATURE ENGINEERING\n",
    "\n",
    "- (5) MODELING & EVALUATION\n",
    "\n",
    "- (6) DISCUSSION ON SCALABLE AND ETHICAL DEPLOYMENT \n",
    "\n",
    "     - 6.1. Scalable deployment by Expedia\n",
    "\n",
    "     - 6.2. AI Ethics: detectinon and mitigation of model bias"
   ]
  }
 ],
 "metadata": {
  "language_info": {
   "name": "python"
  }
 },
 "nbformat": 4,
 "nbformat_minor": 5
}
